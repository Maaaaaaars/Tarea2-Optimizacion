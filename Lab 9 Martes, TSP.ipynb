{
 "cells": [
  {
   "cell_type": "markdown",
   "id": "1aef9b13",
   "metadata": {},
   "source": [
    "Agradecimientos: Dr.Carlos Contreras, Departamento ingeniería industrial\n",
    "\n",
    "## Problema del vendedor viajero (TSP)\n",
    "\n",
    "Un vendedor debe recorrer n ciudades y regresar a la ciudad de\n",
    "partida, pasando solo una vez por cada ciudad. Entonces, consiste\n",
    "en encontrar un ruta de costo mínimo de un conjunto de ciudades,\n",
    "iniciando y terminando en la misma ciudad y visitando cada ciudad\n",
    "exactamente una vez.\n",
    "\n",
    "Sea $G = (V, A)$ un grafo completo, donde $V = {1, . . . , n}$ es el\n",
    "conjunto de v´ertices y A es el conjunto de aristas, que contiene un\n",
    "arista $(i, j)$ por cada par de vertices. Los vertices $i = {2, . . . , n}$\n",
    "corresponden a las ciudades a visitar y el v´ertice 1 es la ciudad\n",
    "inicial. A cada arista $(i, j)$ se le asocia un valor no negativo $c_{ij}$ , que\n",
    "representa el coste de viajar del vertice $i$ al $j$ y $i ̸= j$. Si G es un\n",
    "grafo dirigido, la matriz de costos $C$ es asimetrica. Mientras que, si\n",
    "$c_{ij} = c_{ji}$ para todo $(i, j) \\in A$, la matriz de costos es simetrica.\n",
    "\n",
    "Modelo\n",
    "\n",
    "Variables:\n",
    "\n",
    "$x_{ij}=\\left\\{\\begin{matrix}\n",
    "1, \\text{si la arista (i,j) es parte de la ruta}\\\\ \n",
    "0, \\text{En otro caso}\n",
    "\\end{matrix}\\right.$\n",
    "\n",
    "F.O\n",
    "\n",
    "$\\text{min} \\sum_{(i,j) \\in A} c_{ij}x_{ij}$\n",
    "\n",
    "S.T\n",
    "\n",
    "$\\rightarrow \\sum_{j \\in V: j\\neq i}x_{ij}=1; \\forall i \\in V$\n",
    "\n",
    "$\\rightarrow \\sum_{i \\in V: i\\neq j}x_{ij}=1; \\forall j \\in V$\n",
    "\n",
    "$ \\rightarrow u_i-u_j+1 \\leq n(1-x_{ij}); \\forall (i,j) \\in V: i >1, i\\neq j$\n",
    "\n",
    "$\\rightarrow x_{ij} \\in \\{0,1\\} ; \\forall (i,j) \\in A$\n",
    "\n",
    "$\\rightarrow 1\\leq u_i \\leq n; \\forall i \\in V$\n",
    "\n",
    "#### Implementación pulp"
   ]
  },
  {
   "cell_type": "code",
   "execution_count": 1,
   "id": "34e00b83",
   "metadata": {},
   "outputs": [
    {
     "name": "stdout",
     "output_type": "stream",
     "text": [
      "Status: Optimal\n",
      "x(0,2) = 1\n",
      "x(1,5) = 1\n",
      "x(2,1) = 1\n",
      "x(3,4) = 1\n",
      "x(4,0) = 1\n",
      "x(5,3) = 1\n",
      "Optimal value = 76.0\n"
     ]
    }
   ],
   "source": [
    "import pulp\n",
    "\n",
    "# Crear un problema de minimización\n",
    "problema = pulp.LpProblem(\"Problema_de_Rutas_Mínimas\", pulp.LpMinimize)\n",
    "\n",
    "#Matriz de costos\n",
    "c=[[0,12,29,22,13,24],[12,0,19,3,25,6],[29,19,0,21,23,28],[22,3,21,0,4,5],[13,25,23,4,0,16],[24,26,28,5,16]]\n",
    "\n",
    "# Conjuntos de nodos y aristas\n",
    "n=len(c)\n",
    "V = range(n)  # Donde 'n' es el número de nodos\n",
    "A = [(i, j) for i in V for j in V if i != j]\n",
    "\n",
    "# Variables binarias x_ij\n",
    "x = pulp.LpVariable.dicts(\"x\", A, 0, 1, pulp.LpBinary)\n",
    "u = pulp.LpVariable.dicts(\"u\", V, 0, n, pulp.LpInteger )\n",
    "\n",
    "# Función objetivo\n",
    "problema += pulp.lpSum(c[i][j] * x[(i, j)] for (i, j) in A)\n",
    "\n",
    "# Restricciones\n",
    "for i in V:\n",
    "    problema += pulp.lpSum(x[(i, j)] for j in V if i != j) == 1\n",
    "\n",
    "for j in V:\n",
    "    problema += pulp.lpSum(x[(i, j)] for i in V if i != j) == 1\n",
    "\n",
    "for i in V:\n",
    "    for j in V:\n",
    "        if(i!=j and i>=1):\n",
    "            problema += u[i]-u[j]+1<=n*(1-x[(i,j)])\n",
    "    \n",
    "# Resolver el problema\n",
    "problema.solve()\n",
    "\n",
    "# Imprimir la solución\n",
    "print(\"Status:\", pulp.LpStatus[problema.status])\n",
    "for (i, j) in A:\n",
    "    if x[(i, j)].varValue == 1:\n",
    "        print(f\"x({i},{j}) = 1\")\n",
    "print(\"Optimal value =\", pulp.value(problema.objective))"
   ]
  },
  {
   "cell_type": "markdown",
   "id": "4ef7a3fe",
   "metadata": {},
   "source": [
    "#### Representación euclidiana del problema"
   ]
  },
  {
   "cell_type": "code",
   "execution_count": 2,
   "id": "b2e229c4",
   "metadata": {},
   "outputs": [
    {
     "data": {
      "text/plain": [
       "<matplotlib.collections.PathCollection at 0x1bed10ef6a0>"
      ]
     },
     "execution_count": 2,
     "metadata": {},
     "output_type": "execute_result"
    },
    {
     "data": {
      "image/png": "[encoded data removed]",
      "text/plain": [
       "<Figure size 504x576 with 1 Axes>"
      ]
     },
     "metadata": {
      "needs_background": "light"
     },
     "output_type": "display_data"
    }
   ],
   "source": [
    "import matplotlib.pyplot as plt\n",
    "import random\n",
    "\n",
    "path='wi29.tsp'\n",
    "file=[[float(j) for j in i.split(' ')] for i in open(path,'r').read().split('\\n')[7:-1]]\n",
    "file=random.sample(file, 10) #Reduzco el tamaño por tiempos de computo\n",
    "\n",
    "x_coord=[i[1] for i in file]\n",
    "y_coord=[i[2] for i in file]\n",
    "\n",
    "plt.figure(figsize=(7,8))\n",
    "plt.xlabel(\"X\")\n",
    "plt.ylabel(\"Y\")\n",
    "plt.title(\"Problema TSP\")\n",
    "\n",
    "plt.scatter(x=x_coord,y=y_coord, color='blue',zorder=1)"
   ]
  },
  {
   "cell_type": "code",
   "execution_count": 3,
   "id": "7ea05fe7",
   "metadata": {},
   "outputs": [],
   "source": [
    "import math\n",
    "c=[]\n",
    "for i in range(len(file)):\n",
    "    aux=[]\n",
    "    for j in range(len(file)):\n",
    "        pt1=(file[i][1],file[i][2])\n",
    "        pt2=(file[j][1],file[j][2])\n",
    "        aux.append(math.dist(pt1,pt2))\n",
    "    c.append(aux)"
   ]
  },
  {
   "cell_type": "code",
   "execution_count": 4,
   "id": "7bb0a220",
   "metadata": {},
   "outputs": [
    {
     "name": "stdout",
     "output_type": "stream",
     "text": [
      "Status: Optimal\n",
      "x(0,5) = 1\n",
      "x(1,9) = 1\n",
      "x(2,7) = 1\n",
      "x(3,8) = 1\n",
      "x(4,3) = 1\n",
      "x(5,6) = 1\n",
      "x(6,4) = 1\n",
      "x(7,0) = 1\n",
      "x(8,1) = 1\n",
      "x(9,2) = 1\n",
      "Optimal value = 22323.87917739577\n"
     ]
    }
   ],
   "source": [
    "#Usamos el mismo codigo\n",
    "\n",
    "import pulp\n",
    "\n",
    "# Crear un problema de minimización\n",
    "problema = pulp.LpProblem(\"Problema_de_Rutas_Mínimas\", pulp.LpMinimize)\n",
    "\n",
    "\n",
    "# Conjuntos de nodos y aristas\n",
    "n=len(c)\n",
    "V = range(n)  # Donde 'n' es el número de nodos\n",
    "A = [(i, j) for i in V for j in V if i != j]\n",
    "\n",
    "# Variables binarias x_ij\n",
    "x = pulp.LpVariable.dicts(\"x\", A, 0, 1, pulp.LpBinary)\n",
    "u = pulp.LpVariable.dicts(\"u\", V, 0.9, n+0.1, pulp.LpInteger )\n",
    "\n",
    "# Función objetivo\n",
    "problema += pulp.lpSum(c[i][j] * x[(i, j)] for (i, j) in A)\n",
    "\n",
    "# Restricciones\n",
    "for i in V:\n",
    "    problema += pulp.lpSum(x[(i, j)] for j in V if i != j) == 1\n",
    "\n",
    "for j in V:\n",
    "    problema += pulp.lpSum(x[(i, j)] for i in V if i != j) == 1\n",
    "\n",
    "for i,j in A:\n",
    "    if(i>=1):\n",
    "        problema += u[i]-u[j]+1<=n*(1-x[(i,j)])\n",
    "    \n",
    "# Resolver el problema\n",
    "problema.solve()\n",
    "\n",
    "# Imprimir la solución\n",
    "print(\"Status:\", pulp.LpStatus[problema.status])\n",
    "for (i, j) in A:\n",
    "    if x[(i, j)].varValue == 1:\n",
    "        print(f\"x({i},{j}) = 1\")\n",
    "print(\"Optimal value =\", pulp.value(problema.objective))"
   ]
  },
  {
   "cell_type": "code",
   "execution_count": 19,
   "id": "b13d629e",
   "metadata": {},
   "outputs": [
    {
     "name": "stdout",
     "output_type": "stream",
     "text": [
      "[(0, 9), (1, 2), (2, 6), (3, 8), (4, 5), (5, 0), (6, 3), (7, 4), (8, 7), (9, 1)]\n"
     ]
    },
    {
     "data": {
      "image/png": "[encoded data removed]",
      "text/plain": [
       "<Figure size 504x576 with 1 Axes>"
      ]
     },
     "metadata": {
      "needs_background": "light"
     },
     "output_type": "display_data"
    }
   ],
   "source": [
    "arcos_solucion=[(i,j) for i,j in A if x[(i,j)].varValue==1]\n",
    "print(arcos_solucion)\n",
    "\n",
    "plt.figure(figsize=(7,8))\n",
    "plt.xlabel(\"X\")\n",
    "plt.ylabel(\"Y\")\n",
    "plt.title(\"Problema TSP\")\n",
    "\n",
    "plt.scatter(x=x_coord,y=y_coord, color='blue',zorder=1)\n",
    "\n",
    "for i,j in arcos_solucion:\n",
    "    plt.plot([x_coord[i],x_coord[j]],[y_coord[i],y_coord[j]],color='blue',zorder=1)\n",
    "    \n",
    "plt.show()"
   ]
  },
  {
   "cell_type": "code",
   "execution_count": null,
   "id": "b5afc123",
   "metadata": {},
   "outputs": [],
   "source": []
  },
  {
   "cell_type": "code",
   "execution_count": null,
   "id": "efe4c315",
   "metadata": {},
   "outputs": [],
   "source": []
  }
 ],
 "metadata": {
  "kernelspec": {
   "display_name": "Python 3 (ipykernel)",
   "language": "python",
   "name": "python3"
  },
  "language_info": {
   "codemirror_mode": {
    "name": "ipython",
    "version": 3
   },
   "file_extension": ".py",
   "mimetype": "text/x-python",
   "name": "python",
   "nbconvert_exporter": "python",
   "pygments_lexer": "ipython3",
   "version": "3.9.12"
  }
 },
 "nbformat": 4,
 "nbformat_minor": 5
}
